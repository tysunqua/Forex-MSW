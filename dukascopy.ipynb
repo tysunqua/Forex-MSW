{
 "cells": [
  {
   "cell_type": "code",
   "execution_count": 4,
   "id": "d3ccc774",
   "metadata": {},
   "outputs": [
    {
     "name": "stderr",
     "output_type": "stream",
     "text": [
      "Fetching 2023-01-03: 100%|██████████| 24/24 [00:18<00:00,  1.29it/s]\n"
     ]
    }
   ],
   "source": [
    "import os\n",
    "import requests\n",
    "import lzma\n",
    "import struct\n",
    "import pandas as pd\n",
    "from datetime import datetime, timedelta\n",
    "from tqdm import tqdm\n",
    "\n",
    "def download_dukas_minute_data(symbol, year, month, day, hour):\n",
    "    # Dukascopy months are 0-indexed\n",
    "    url = f\"https://datafeed.dukascopy.com/datafeed/{symbol}/{year}/{month - 1:02d}/{day:02d}/{hour:02d}h_ticks.bi5\"\n",
    "    response = requests.get(url, stream=True)\n",
    "\n",
    "    if response.status_code != 200:\n",
    "        return None\n",
    "\n",
    "    try:\n",
    "        decompressed_data = lzma.decompress(response.content)\n",
    "    except lzma.LZMAError:\n",
    "        return None\n",
    "\n",
    "    data = []\n",
    "    for i in range(0, len(decompressed_data), 20):\n",
    "        chunk = decompressed_data[i:i + 20]\n",
    "        if len(chunk) != 20:\n",
    "            continue\n",
    "        try:\n",
    "            millis, bid, ask, bid_vol, ask_vol = struct.unpack('>Qffhh', chunk)\n",
    "            timestamp = datetime(year, month, day, hour) + timedelta(milliseconds=millis)\n",
    "            data.append([timestamp, ask, bid, ask_vol, bid_vol])\n",
    "        except (OverflowError, struct.error):\n",
    "            continue\n",
    "\n",
    "    if not data:\n",
    "        return None\n",
    "\n",
    "    return pd.DataFrame(data, columns=['time', 'ask', 'bid', 'ask_vol', 'bid_vol'])\n",
    "\n",
    "# Example: download 1 full day of tick data\n",
    "def download_full_day(symbol, year, month, day):\n",
    "    all_data = []\n",
    "    for hour in tqdm(range(24), desc=f\"Fetching {year}-{month:02d}-{day:02d}\"):\n",
    "        df = download_dukas_minute_data(symbol, year, month, day, hour)\n",
    "        if df is not None:\n",
    "            all_data.append(df)\n",
    "    return pd.concat(all_data) if all_data else pd.DataFrame()\n",
    "\n",
    "# Example usage\n",
    "df = download_full_day('XAUUSD', 2023, 1, 3)\n",
    "df.to_csv('XAUUSD_ticks_2023_01_03.csv', index=False)\n"
   ]
  },
  {
   "cell_type": "code",
   "execution_count": 6,
   "id": "59525256",
   "metadata": {},
   "outputs": [
    {
     "name": "stderr",
     "output_type": "stream",
     "text": [
      "INFO:DUKASCRIPT:current timestamp :2020-01-30T03:22:00\n",
      "INFO:DUKASCRIPT:current timestamp :2020-02-29T01:33:00\n",
      "INFO:DUKASCRIPT:current timestamp :2020-03-31T19:08:00\n",
      "INFO:DUKASCRIPT:current timestamp :2020-05-01T13:11:00\n",
      "INFO:DUKASCRIPT:current timestamp :2020-06-02T11:12:00\n",
      "INFO:DUKASCRIPT:current timestamp :2020-07-02T05:14:00\n",
      "INFO:DUKASCRIPT:current timestamp :2020-08-01T02:21:00\n",
      "INFO:DUKASCRIPT:current timestamp :2020-09-01T20:20:00\n",
      "INFO:DUKASCRIPT:current timestamp :2020-10-01T18:23:00\n",
      "INFO:DUKASCRIPT:current timestamp :2020-11-02T13:23:00\n",
      "INFO:DUKASCRIPT:current timestamp :2020-12-02T14:45:00\n",
      "INFO:DUKASCRIPT:current timestamp :2021-01-05T12:11:00\n",
      "INFO:DUKASCRIPT:current timestamp :2021-02-04T10:11:00\n",
      "INFO:DUKASCRIPT:current timestamp :2021-03-08T08:11:00\n",
      "INFO:DUKASCRIPT:current timestamp :2021-04-08T00:13:00\n",
      "INFO:DUKASCRIPT:current timestamp :2021-05-07T18:20:00\n",
      "INFO:DUKASCRIPT:current timestamp :2021-06-08T16:23:00\n",
      "INFO:DUKASCRIPT:current timestamp :2021-07-08T14:23:00\n",
      "INFO:DUKASCRIPT:current timestamp :2021-08-09T08:29:00\n",
      "INFO:DUKASCRIPT:current timestamp :2021-09-08T06:33:00\n",
      "INFO:DUKASCRIPT:current timestamp :2021-10-07T23:32:00\n",
      "INFO:DUKASCRIPT:current timestamp :2021-11-08T18:37:00\n",
      "INFO:DUKASCRIPT:current timestamp :2021-12-08T20:12:00\n",
      "INFO:DUKASCRIPT:current timestamp :2022-01-10T14:17:00\n",
      "INFO:DUKASCRIPT:current timestamp :2022-02-09T12:17:00\n",
      "INFO:DUKASCRIPT:current timestamp :2022-03-11T08:48:00\n",
      "INFO:DUKASCRIPT:current timestamp :2022-04-12T00:49:00\n",
      "INFO:DUKASCRIPT:current timestamp :2022-05-12T18:50:00\n",
      "INFO:DUKASCRIPT:current timestamp :2022-06-13T15:22:00\n",
      "INFO:DUKASCRIPT:current timestamp :2022-07-13T14:23:00\n",
      "INFO:DUKASCRIPT:current timestamp :2022-08-12T08:27:00\n",
      "INFO:DUKASCRIPT:current timestamp :2022-09-13T05:00:00\n",
      "INFO:DUKASCRIPT:current timestamp :2022-10-12T22:03:00\n",
      "INFO:DUKASCRIPT:current timestamp :2022-11-11T17:17:00\n",
      "INFO:DUKASCRIPT:current timestamp :2022-12-13T17:20:00\n",
      "INFO:DUKASCRIPT:current timestamp :2023-01-16T11:28:00\n",
      "INFO:DUKASCRIPT:current timestamp :2023-02-15T09:33:00\n",
      "INFO:DUKASCRIPT:current timestamp :2023-03-17T05:12:00\n",
      "INFO:DUKASCRIPT:current timestamp :2023-04-18T22:22:00\n",
      "INFO:DUKASCRIPT:current timestamp :2023-05-18T16:24:00\n",
      "INFO:DUKASCRIPT:current timestamp :2023-06-19T13:02:00\n",
      "INFO:DUKASCRIPT:current timestamp :2023-07-19T12:43:00\n",
      "INFO:DUKASCRIPT:current timestamp :2023-08-18T06:59:00\n",
      "INFO:DUKASCRIPT:current timestamp :2023-09-19T03:58:00\n",
      "INFO:DUKASCRIPT:current timestamp :2023-10-18T22:22:00\n",
      "INFO:DUKASCRIPT:current timestamp :2023-11-17T17:33:00\n",
      "INFO:DUKASCRIPT:current timestamp :2023-12-19T19:41:00\n"
     ]
    },
    {
     "name": "stdout",
     "output_type": "stream",
     "text": [
      "                   datetime      open      high       low     close   volume\n",
      "0 2019-12-29 23:00:00+00:00  1511.458  1511.738  1511.288  1511.418  0.05372\n",
      "1 2019-12-29 23:01:00+00:00  1511.478  1511.718  1511.278  1511.368  0.03187\n",
      "2 2019-12-29 23:02:00+00:00  1511.368  1511.428  1511.198  1511.348  0.02042\n",
      "3 2019-12-29 23:03:00+00:00  1511.348  1511.368  1511.178  1511.238  0.01251\n",
      "4 2019-12-29 23:04:00+00:00  1511.258  1511.418  1511.218  1511.228  0.01836\n"
     ]
    }
   ],
   "source": [
    "from datetime import datetime\n",
    "import dukascopy_python\n",
    "from dukascopy_python import fetch, INTERVAL_MIN_1, OFFER_SIDE_BID, INTERVAL_TICK\n",
    "from dukascopy_python.instruments import INSTRUMENT_FX_METALS_XAU_USD\n",
    "import pandas as pd\n",
    "\n",
    "# Parameters\n",
    "instrument = INSTRUMENT_FX_METALS_XAU_USD  # XAU/USD instrument\n",
    "start = datetime(2019, 12, 30)\n",
    "end = datetime(2024, 1, 1)\n",
    "interval = INTERVAL_MIN_1     # 1-minute candles\n",
    "offer_side = OFFER_SIDE_BID    # or OFFER_SIDE_ASK\n",
    "\n",
    "# Fetch data\n",
    "df = fetch(\n",
    "    instrument=instrument,\n",
    "    interval=interval,\n",
    "    offer_side=offer_side,\n",
    "    start=start,\n",
    "    end=end,\n",
    ")\n",
    "\n",
    "# Rename 'timestamp' column to 'datetime'\n",
    "df = df.rename_axis('datetime').reset_index()\n",
    "\n",
    "# Set 'datetime' as index\n",
    "# df.set_index('datetime', inplace=True)\n",
    "\n",
    "\n",
    "# Save to CSV\n",
    "df.to_csv('train.csv', index=True)\n",
    "print(df.head())\n"
   ]
  },
  {
   "cell_type": "code",
   "execution_count": null,
   "id": "c6bd0a77",
   "metadata": {},
   "outputs": [
    {
     "name": "stdout",
     "output_type": "stream",
     "text": [
      "Fetching data for: 2019-12-30\n"
     ]
    },
    {
     "name": "stderr",
     "output_type": "stream",
     "text": [
      "INFO:DUKASCRIPT:current timestamp :2019-12-30T15:03:46.658000\n",
      "INFO:DUKASCRIPT:current timestamp :2019-12-30T21:03:57.157000\n",
      "INFO:DUKASCRIPT:current timestamp :2019-12-30T23:46:00.496000\n"
     ]
    },
    {
     "name": "stdout",
     "output_type": "stream",
     "text": [
      "Fetching data for: 2019-12-31\n"
     ]
    },
    {
     "name": "stderr",
     "output_type": "stream",
     "text": [
      "INFO:DUKASCRIPT:current timestamp :2019-12-31T10:49:12.677000\n",
      "INFO:DUKASCRIPT:current timestamp :2019-12-31T19:00:58.149000\n",
      "INFO:DUKASCRIPT:current timestamp :2019-12-31T21:48:48.868000\n"
     ]
    },
    {
     "name": "stdout",
     "output_type": "stream",
     "text": [
      "Fetching data for: 2020-01-01\n",
      "Fetching data for: 2020-01-02\n"
     ]
    },
    {
     "name": "stderr",
     "output_type": "stream",
     "text": [
      "INFO:DUKASCRIPT:current timestamp :2020-01-02T15:23:10.289000\n",
      "INFO:DUKASCRIPT:current timestamp :2020-01-02T20:46:34.894000\n",
      "INFO:DUKASCRIPT:current timestamp :2020-01-02T23:00:48.887000\n"
     ]
    },
    {
     "name": "stdout",
     "output_type": "stream",
     "text": [
      "Fetching data for: 2020-01-03\n"
     ]
    },
    {
     "name": "stderr",
     "output_type": "stream",
     "text": [
      "INFO:DUKASCRIPT:current timestamp :2020-01-03T08:59:59.230000\n",
      "INFO:DUKASCRIPT:current timestamp :2020-01-03T12:31:04.707000\n",
      "INFO:DUKASCRIPT:current timestamp :2020-01-03T15:15:01.060000\n",
      "INFO:DUKASCRIPT:current timestamp :2020-01-03T17:57:59.693000\n",
      "INFO:DUKASCRIPT:current timestamp :2020-01-03T20:28:45.048000\n",
      "INFO:DUKASCRIPT:current timestamp :2020-01-03T22:16:23.254000\n"
     ]
    },
    {
     "name": "stdout",
     "output_type": "stream",
     "text": [
      "Fetching data for: 2020-01-04\n"
     ]
    },
    {
     "name": "stderr",
     "output_type": "stream",
     "text": [
      "INFO:DUKASCRIPT:current timestamp :2020-01-04T03:28:02.545000\n"
     ]
    },
    {
     "name": "stdout",
     "output_type": "stream",
     "text": [
      "Fetching data for: 2020-01-05\n",
      "No data for 2020-01-05\n",
      "Fetching data for: 2020-01-06\n"
     ]
    },
    {
     "name": "stderr",
     "output_type": "stream",
     "text": [
      "INFO:DUKASCRIPT:current timestamp :2020-01-06T08:12:37.312000\n",
      "INFO:DUKASCRIPT:current timestamp :2020-01-06T11:33:03.197000\n",
      "INFO:DUKASCRIPT:current timestamp :2020-01-06T14:58:57.276000\n",
      "INFO:DUKASCRIPT:current timestamp :2020-01-06T17:35:15.262000\n",
      "INFO:DUKASCRIPT:current timestamp :2020-01-06T20:55:29.525000\n",
      "INFO:DUKASCRIPT:current timestamp :2020-01-06T22:37:30.140000\n"
     ]
    },
    {
     "name": "stdout",
     "output_type": "stream",
     "text": [
      "Fetching data for: 2020-01-07\n"
     ]
    },
    {
     "name": "stderr",
     "output_type": "stream",
     "text": [
      "INFO:DUKASCRIPT:current timestamp :2020-01-07T03:26:27.824000\n",
      "INFO:DUKASCRIPT:current timestamp :2020-01-07T10:13:58.248000\n",
      "INFO:DUKASCRIPT:current timestamp :2020-01-07T14:13:52.264000\n",
      "INFO:DUKASCRIPT:current timestamp :2020-01-07T16:38:59.299000\n",
      "INFO:DUKASCRIPT:current timestamp :2020-01-07T20:19:34.016000\n",
      "INFO:DUKASCRIPT:current timestamp :2020-01-07T22:08:16.327000\n",
      "INFO:DUKASCRIPT:current timestamp :2020-01-07T23:54:15.629000\n"
     ]
    },
    {
     "name": "stdout",
     "output_type": "stream",
     "text": [
      "Fetching data for: 2020-01-08\n"
     ]
    },
    {
     "name": "stderr",
     "output_type": "stream",
     "text": [
      "INFO:DUKASCRIPT:current timestamp :2020-01-08T04:45:43.145000\n",
      "INFO:DUKASCRIPT:current timestamp :2020-01-08T07:24:38.882000\n",
      "INFO:DUKASCRIPT:current timestamp :2020-01-08T08:43:23.190000\n",
      "INFO:DUKASCRIPT:current timestamp :2020-01-08T09:58:44.207000\n",
      "INFO:DUKASCRIPT:current timestamp :2020-01-08T12:00:00.289000\n",
      "INFO:DUKASCRIPT:current timestamp :2020-01-08T14:20:31.934000\n",
      "INFO:DUKASCRIPT:current timestamp :2020-01-08T16:01:55.062000\n",
      "INFO:DUKASCRIPT:current timestamp :2020-01-08T18:28:54.585000\n",
      "INFO:DUKASCRIPT:current timestamp :2020-01-08T20:29:02.129000\n",
      "INFO:DUKASCRIPT:current timestamp :2020-01-08T21:55:44.486000\n",
      "INFO:DUKASCRIPT:current timestamp :2020-01-08T23:30:31.705000\n"
     ]
    },
    {
     "name": "stdout",
     "output_type": "stream",
     "text": [
      "Fetching data for: 2020-01-09\n"
     ]
    },
    {
     "name": "stderr",
     "output_type": "stream",
     "text": [
      "INFO:DUKASCRIPT:current timestamp :2020-01-09T02:04:43.419000\n",
      "INFO:DUKASCRIPT:current timestamp :2020-01-09T07:43:01.814000\n",
      "INFO:DUKASCRIPT:current timestamp :2020-01-09T13:31:05.484000\n",
      "INFO:DUKASCRIPT:current timestamp :2020-01-09T15:31:24.205000\n",
      "INFO:DUKASCRIPT:current timestamp :2020-01-09T18:53:12.048000\n",
      "INFO:DUKASCRIPT:current timestamp :2020-01-09T21:04:12.012000\n",
      "INFO:DUKASCRIPT:current timestamp :2020-01-09T23:12:02.767000\n"
     ]
    },
    {
     "name": "stdout",
     "output_type": "stream",
     "text": [
      "Fetching data for: 2020-01-10\n"
     ]
    },
    {
     "name": "stderr",
     "output_type": "stream",
     "text": [
      "INFO:DUKASCRIPT:current timestamp :2020-01-10T08:05:06.582000\n",
      "INFO:DUKASCRIPT:current timestamp :2020-01-10T15:27:58.473000\n",
      "INFO:DUKASCRIPT:current timestamp :2020-01-10T20:44:18.447000\n",
      "INFO:DUKASCRIPT:current timestamp :2020-01-10T22:10:56.821000\n"
     ]
    },
    {
     "name": "stdout",
     "output_type": "stream",
     "text": [
      "Fetching data for: 2020-01-11\n",
      "Fetching data for: 2020-01-12\n",
      "No data for 2020-01-12\n",
      "Fetching data for: 2020-01-13\n"
     ]
    },
    {
     "name": "stderr",
     "output_type": "stream",
     "text": [
      "INFO:DUKASCRIPT:current timestamp :2020-01-13T14:26:40.809000\n",
      "INFO:DUKASCRIPT:current timestamp :2020-01-13T18:49:22.386000\n",
      "INFO:DUKASCRIPT:current timestamp :2020-01-13T21:49:15.806000\n"
     ]
    },
    {
     "name": "stdout",
     "output_type": "stream",
     "text": [
      "Fetching data for: 2020-01-14\n"
     ]
    },
    {
     "name": "stderr",
     "output_type": "stream",
     "text": [
      "INFO:DUKASCRIPT:current timestamp :2020-01-14T08:10:32.103000\n",
      "INFO:DUKASCRIPT:current timestamp :2020-01-14T12:37:10.569000\n",
      "INFO:DUKASCRIPT:current timestamp :2020-01-14T16:14:27.799000\n",
      "INFO:DUKASCRIPT:current timestamp :2020-01-14T20:25:00.160000\n",
      "INFO:DUKASCRIPT:current timestamp :2020-01-14T22:16:34.266000\n"
     ]
    },
    {
     "name": "stdout",
     "output_type": "stream",
     "text": [
      "Fetching data for: 2020-01-15\n"
     ]
    },
    {
     "name": "stderr",
     "output_type": "stream",
     "text": [
      "INFO:DUKASCRIPT:current timestamp :2020-01-15T02:29:51.610000\n",
      "INFO:DUKASCRIPT:current timestamp :2020-01-15T09:44:34.794000\n",
      "INFO:DUKASCRIPT:current timestamp :2020-01-15T16:14:20.276000\n",
      "INFO:DUKASCRIPT:current timestamp :2020-01-15T20:40:42.870000\n",
      "INFO:DUKASCRIPT:current timestamp :2020-01-15T22:30:47.270000\n"
     ]
    },
    {
     "name": "stdout",
     "output_type": "stream",
     "text": [
      "Fetching data for: 2020-01-16\n"
     ]
    },
    {
     "name": "stderr",
     "output_type": "stream",
     "text": [
      "INFO:DUKASCRIPT:current timestamp :2020-01-16T03:16:57.055000\n",
      "INFO:DUKASCRIPT:current timestamp :2020-01-16T12:58:32.105000\n",
      "INFO:DUKASCRIPT:current timestamp :2020-01-16T19:20:13.837000\n",
      "INFO:DUKASCRIPT:current timestamp :2020-01-16T21:56:52.256000\n"
     ]
    },
    {
     "name": "stdout",
     "output_type": "stream",
     "text": [
      "Fetching data for: 2020-01-17\n"
     ]
    },
    {
     "name": "stderr",
     "output_type": "stream",
     "text": [
      "INFO:DUKASCRIPT:current timestamp :2020-01-17T08:39:31.220000\n",
      "INFO:DUKASCRIPT:current timestamp :2020-01-17T17:04:45.397000\n",
      "INFO:DUKASCRIPT:current timestamp :2020-01-17T21:12:01.403000\n",
      "INFO:DUKASCRIPT:current timestamp :2020-01-17T23:45:00.932000\n"
     ]
    },
    {
     "name": "stdout",
     "output_type": "stream",
     "text": [
      "Fetching data for: 2020-01-18\n",
      "Fetching data for: 2020-01-19\n",
      "No data for 2020-01-19\n",
      "Fetching data for: 2020-01-20\n"
     ]
    },
    {
     "name": "stderr",
     "output_type": "stream",
     "text": [
      "INFO:DUKASCRIPT:current timestamp :2020-01-20T17:46:11.223000\n"
     ]
    },
    {
     "name": "stdout",
     "output_type": "stream",
     "text": [
      "Fetching data for: 2020-01-21\n"
     ]
    },
    {
     "name": "stderr",
     "output_type": "stream",
     "text": [
      "INFO:DUKASCRIPT:current timestamp :2020-01-21T12:02:40.816000\n",
      "INFO:DUKASCRIPT:current timestamp :2020-01-21T15:52:57.044000\n",
      "INFO:DUKASCRIPT:current timestamp :2020-01-21T19:13:51.001000\n",
      "INFO:DUKASCRIPT:current timestamp :2020-01-21T21:15:07.718000\n",
      "INFO:DUKASCRIPT:current timestamp :2020-01-21T22:51:24.853000\n"
     ]
    },
    {
     "name": "stdout",
     "output_type": "stream",
     "text": [
      "Fetching data for: 2020-01-22\n"
     ]
    },
    {
     "name": "stderr",
     "output_type": "stream",
     "text": [
      "INFO:DUKASCRIPT:current timestamp :2020-01-22T03:47:32.154000\n",
      "INFO:DUKASCRIPT:current timestamp :2020-01-22T11:41:02.045000\n",
      "INFO:DUKASCRIPT:current timestamp :2020-01-22T18:13:02.201000\n",
      "INFO:DUKASCRIPT:current timestamp :2020-01-22T21:46:23.062000\n"
     ]
    },
    {
     "name": "stdout",
     "output_type": "stream",
     "text": [
      "Fetching data for: 2020-01-23\n"
     ]
    },
    {
     "name": "stderr",
     "output_type": "stream",
     "text": [
      "INFO:DUKASCRIPT:current timestamp :2020-01-23T07:33:26.887000\n",
      "INFO:DUKASCRIPT:current timestamp :2020-01-23T13:52:56.368000\n",
      "INFO:DUKASCRIPT:current timestamp :2020-01-23T19:41:50.309000\n",
      "INFO:DUKASCRIPT:current timestamp :2020-01-23T21:55:15.017000\n",
      "INFO:DUKASCRIPT:current timestamp :2020-01-23T23:47:28.257000\n"
     ]
    },
    {
     "name": "stdout",
     "output_type": "stream",
     "text": [
      "Fetching data for: 2020-01-24\n"
     ]
    },
    {
     "name": "stderr",
     "output_type": "stream",
     "text": [
      "INFO:DUKASCRIPT:current timestamp :2020-01-24T03:27:27.106000\n",
      "INFO:DUKASCRIPT:current timestamp :2020-01-24T15:15:57.306000\n",
      "INFO:DUKASCRIPT:current timestamp :2020-01-24T20:13:41.601000\n",
      "INFO:DUKASCRIPT:current timestamp :2020-01-24T22:19:58.743000\n",
      "INFO:DUKASCRIPT:current timestamp :2020-01-24T23:46:40.869000\n"
     ]
    },
    {
     "name": "stdout",
     "output_type": "stream",
     "text": [
      "Fetching data for: 2020-01-25\n"
     ]
    },
    {
     "name": "stderr",
     "output_type": "stream",
     "text": [
      "INFO:DUKASCRIPT:current timestamp :2020-01-25T02:12:14.171000\n"
     ]
    }
   ],
   "source": [
    "from datetime import datetime, timedelta\n",
    "import dukascopy_python\n",
    "from dukascopy_python import fetch, INTERVAL_TICK, OFFER_SIDE_BID\n",
    "from dukascopy_python.instruments import INSTRUMENT_FX_METALS_XAU_USD\n",
    "import pandas as pd\n",
    "import os\n",
    "\n",
    "# Parameters\n",
    "instrument = INSTRUMENT_FX_METALS_XAU_USD\n",
    "start_date = datetime(2019, 12, 30)\n",
    "end_date = datetime(2024, 1, 1)\n",
    "interval = INTERVAL_TICK\n",
    "offer_side = OFFER_SIDE_BID\n",
    "output_file = 'XAUUSD_tick_Train.csv'\n",
    "\n",
    "# Check if file exists to write headers only once\n",
    "file_exists = os.path.isfile(output_file)\n",
    "\n",
    "# Daily loop\n",
    "current_date = start_date\n",
    "while current_date < end_date:\n",
    "    next_date = current_date + timedelta(days=1)\n",
    "    print(f\"Fetching data for: {current_date.date()}\")\n",
    "\n",
    "    try:\n",
    "        df = fetch(\n",
    "            instrument=instrument,\n",
    "            interval=interval,\n",
    "            offer_side=offer_side,\n",
    "            start=current_date,\n",
    "            end=next_date,\n",
    "        )\n",
    "        if not df.empty:\n",
    "            df.to_csv(output_file, mode='a', header=not file_exists, index=True)\n",
    "            file_exists = True  # After the first write, ensure header=False for next writes\n",
    "        else:\n",
    "            print(f\"No data for {current_date.date()}\")\n",
    "\n",
    "    except Exception as e:\n",
    "        print(f\"Error fetching data for {current_date.date()}: {e}\")\n",
    "\n",
    "    current_date = next_date\n"
   ]
  }
 ],
 "metadata": {
  "kernelspec": {
   "display_name": "forexenv",
   "language": "python",
   "name": "python3"
  },
  "language_info": {
   "codemirror_mode": {
    "name": "ipython",
    "version": 3
   },
   "file_extension": ".py",
   "mimetype": "text/x-python",
   "name": "python",
   "nbconvert_exporter": "python",
   "pygments_lexer": "ipython3",
   "version": "3.11.4"
  }
 },
 "nbformat": 4,
 "nbformat_minor": 5
}
