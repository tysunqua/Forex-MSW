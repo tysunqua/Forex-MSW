{
 "cells": [
  {
   "cell_type": "code",
   "execution_count": 7,
   "id": "1a64cfe7",
   "metadata": {},
   "outputs": [],
   "source": [
    "import numpy as np"
   ]
  },
  {
   "cell_type": "code",
   "execution_count": 8,
   "id": "ecab1acd",
   "metadata": {},
   "outputs": [],
   "source": [
    "# input xs as a 1D numpy array\n",
    "xs = np.array([1, 2, 3, 4, 5])\n",
    "t = 15\n"
   ]
  },
  {
   "cell_type": "code",
   "execution_count": 9,
   "id": "cd76c560",
   "metadata": {},
   "outputs": [],
   "source": [
    "def check_s(xs, t, s):\n",
    "    # s is a 1D numpy array same length as xs but containing only -1s and 1s\n",
    "    # returns True if the sum of xs[i] * s[i] == t \n",
    "    if len(xs) != len(s):\n",
    "        raise ValueError(\"Length of xs and s must be the same\")\n",
    "    total = np.sum(xs * s)\n",
    "    return total == t\n",
    "\n",
    "def convert_integer_to_s(x, n):\n",
    "    # x is an integer, n is the length of xs\n",
    "    # returns a 1D numpy array of length n containing -1s and 1s\n",
    "    if x < 0 or x >= (1 << n):\n",
    "        raise ValueError(\"x must be in the range [0, 2^n - 1]\")\n",
    "    s = np.zeros(n, dtype=int)\n",
    "    for i in range(n):\n",
    "        s[i] = 1 if (x & (1 << i)) else -1\n",
    "    return s\n"
   ]
  },
  {
   "cell_type": "code",
   "execution_count": 10,
   "id": "2d54017e",
   "metadata": {},
   "outputs": [],
   "source": [
    "def find_solutions(xs, t):\n",
    "    n = len(xs)\n",
    "    solutions = []\n",
    "    for x in range(1 << n):  # iterate from 0 to 2^n - 1\n",
    "        s = convert_integer_to_s(x, n)\n",
    "        if check_s(xs, t, s):\n",
    "            solutions.append(s)\n",
    "    return solutions"
   ]
  },
  {
   "cell_type": "code",
   "execution_count": 11,
   "id": "b7f07fb4",
   "metadata": {},
   "outputs": [
    {
     "name": "stdout",
     "output_type": "stream",
     "text": [
      "Solution 1: [1 1 1 1 1]\n"
     ]
    }
   ],
   "source": [
    "solutions = find_solutions(xs, t)\n",
    "for i, s in enumerate(solutions):\n",
    "    print(f\"Solution {i + 1}: {s}\")"
   ]
  }
 ],
 "metadata": {
  "kernelspec": {
   "display_name": "forexenv",
   "language": "python",
   "name": "python3"
  },
  "language_info": {
   "codemirror_mode": {
    "name": "ipython",
    "version": 3
   },
   "file_extension": ".py",
   "mimetype": "text/x-python",
   "name": "python",
   "nbconvert_exporter": "python",
   "pygments_lexer": "ipython3",
   "version": "3.11.4"
  }
 },
 "nbformat": 4,
 "nbformat_minor": 5
}
